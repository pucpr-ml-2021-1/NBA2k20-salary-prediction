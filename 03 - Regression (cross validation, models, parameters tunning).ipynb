{
 "cells": [
  {
   "cell_type": "code",
   "execution_count": 1,
   "metadata": {},
   "outputs": [],
   "source": [
    "import pandas as pd\n",
    "import numpy as np\n",
    "import matplotlib.pyplot as plt \n",
    "import seaborn as sns\n",
    "\n",
    "from sklearn.feature_selection import RFECV\n",
    "from sklearn.model_selection import KFold, cross_val_score, train_test_split\n",
    "from sklearn.linear_model import LinearRegression, Lasso, Ridge, ElasticNet\n",
    "from sklearn.metrics import mean_squared_error\n",
    "import sklearn\n",
    "\n",
    "from bayes_opt import BayesianOptimization\n",
    "\n",
    "import time\n",
    "import warnings\n",
    "\n",
    "warnings.filterwarnings(\"ignore\")\n",
    "warnings.filterwarnings(\"ignore\", category=DeprecationWarning) "
   ]
  },
  {
   "cell_type": "code",
   "execution_count": 2,
   "metadata": {},
   "outputs": [],
   "source": [
    "df = pd.read_parquet('./data/dataframe.parquet')"
   ]
  },
  {
   "cell_type": "code",
   "execution_count": 3,
   "metadata": {},
   "outputs": [
    {
     "data": {
      "text/plain": [
       "Index(['full_name', 'rating', 'jersey', 'team', 'position', 'b_day', 'height',\n",
       "       'weight', 'salary', 'country', 'draft_year', 'draft_round',\n",
       "       'draft_peak', 'college', 'year_born'],\n",
       "      dtype='object')"
      ]
     },
     "execution_count": 3,
     "metadata": {},
     "output_type": "execute_result"
    }
   ],
   "source": [
    "df.columns"
   ]
  },
  {
   "cell_type": "code",
   "execution_count": 4,
   "metadata": {},
   "outputs": [],
   "source": [
    "df = df.drop(['full_name', 'jersey', 'team', 'position', 'b_day', 'country', 'college', 'year_born'], axis=1)\n",
    "\n",
    "X = df.drop('salary', axis=1)\n",
    "y = df['salary']"
   ]
  },
  {
   "cell_type": "code",
   "execution_count": 5,
   "metadata": {},
   "outputs": [],
   "source": [
    "def lasso_eval(alpha, max_iter):\n",
    "    lasso = Lasso(alpha = alpha, max_iter = max_iter)\n",
    "    result = cross_val_score(lasso, \n",
    "                             X, \n",
    "                             y, \n",
    "                             scoring='neg_mean_squared_error', \n",
    "                             cv=KFold(5, True, 39), \n",
    "                             n_jobs=-1)\n",
    "    return np.mean(result)\n",
    "\n",
    "def ridge_eval(alpha, max_iter):\n",
    "    ridge = Ridge(alpha = alpha, max_iter = max_iter)\n",
    "    result = cross_val_score(ridge, \n",
    "                             X, \n",
    "                             y, \n",
    "                             scoring='neg_mean_squared_error', \n",
    "                             cv=KFold(5, True, 39), \n",
    "                             n_jobs=-1)\n",
    "    return np.mean(result)\n",
    "\n",
    "def elasticnet_eval(alpha, max_iter, l1):\n",
    "    elasticnet = ElasticNet(alpha = alpha, max_iter = max_iter, l1_ratio=l1)\n",
    "    result = cross_val_score(elasticnet, \n",
    "                             X, \n",
    "                             y, \n",
    "                             scoring='neg_mean_squared_error', \n",
    "                             cv=KFold(5, True, 39), \n",
    "                             n_jobs=-1)\n",
    "    return np.mean(result)"
   ]
  },
  {
   "cell_type": "code",
   "execution_count": 6,
   "metadata": {},
   "outputs": [
    {
     "name": "stdout",
     "output_type": "stream",
     "text": [
      "|   iter    |  target   |   alpha   | max_iter  |\n",
      "-------------------------------------------------\n",
      "| \u001b[95m 4       \u001b[0m | \u001b[95m-3e+13   \u001b[0m | \u001b[95m 0.466   \u001b[0m | \u001b[95m 179.6   \u001b[0m |\n",
      "| \u001b[95m 6       \u001b[0m | \u001b[95m-3e+13   \u001b[0m | \u001b[95m 0.2719  \u001b[0m | \u001b[95m 776.1   \u001b[0m |\n",
      "| \u001b[95m 61      \u001b[0m | \u001b[95m-3e+13   \u001b[0m | \u001b[95m 0.1135  \u001b[0m | \u001b[95m 179.0   \u001b[0m |\n",
      "| \u001b[95m 62      \u001b[0m | \u001b[95m-3e+13   \u001b[0m | \u001b[95m 0.1083  \u001b[0m | \u001b[95m 178.1   \u001b[0m |\n",
      "| \u001b[95m 70      \u001b[0m | \u001b[95m-3e+13   \u001b[0m | \u001b[95m 0.1019  \u001b[0m | \u001b[95m 1.015e+0\u001b[0m |\n",
      "=================================================\n"
     ]
    }
   ],
   "source": [
    "lassoBO = BayesianOptimization(lasso_eval, \n",
    "                               {\n",
    "                                    \"alpha\": (0.1, 2),\n",
    "                                    \"max_iter\": (100, 1500)\n",
    "                                },\n",
    "                               verbose=1\n",
    "                              )\n",
    "\n",
    "lassoBO.maximize(n_iter=20, init_points=50)"
   ]
  },
  {
   "cell_type": "code",
   "execution_count": 7,
   "metadata": {},
   "outputs": [
    {
     "data": {
      "text/plain": [
       "{'target': -30001659861071.133,\n",
       " 'params': {'alpha': 0.10188186676814492, 'max_iter': 1014.8224099525694}}"
      ]
     },
     "execution_count": 7,
     "metadata": {},
     "output_type": "execute_result"
    }
   ],
   "source": [
    "lassoBO.max"
   ]
  },
  {
   "cell_type": "code",
   "execution_count": 8,
   "metadata": {},
   "outputs": [
    {
     "name": "stdout",
     "output_type": "stream",
     "text": [
      "|   iter    |  target   |   alpha   | max_iter  |\n",
      "-------------------------------------------------\n",
      "| \u001b[95m 3       \u001b[0m | \u001b[95m-3e+13   \u001b[0m | \u001b[95m 1.805   \u001b[0m | \u001b[95m 771.1   \u001b[0m |\n",
      "| \u001b[95m 20      \u001b[0m | \u001b[95m-3e+13   \u001b[0m | \u001b[95m 1.971   \u001b[0m | \u001b[95m 505.4   \u001b[0m |\n",
      "| \u001b[95m 50      \u001b[0m | \u001b[95m-3e+13   \u001b[0m | \u001b[95m 1.983   \u001b[0m | \u001b[95m 1.217e+0\u001b[0m |\n",
      "=================================================\n"
     ]
    }
   ],
   "source": [
    "ridgeBO = BayesianOptimization(ridge_eval, \n",
    "                               {\n",
    "                                    \"alpha\": (0.1, 2),\n",
    "                                    \"max_iter\": (100, 1500)\n",
    "                                },\n",
    "                              verbose=1\n",
    "                              )\n",
    "\n",
    "ridgeBO.maximize(n_iter=20, init_points=50)"
   ]
  },
  {
   "cell_type": "code",
   "execution_count": 9,
   "metadata": {},
   "outputs": [
    {
     "data": {
      "text/plain": [
       "{'target': -29998536986592.867,\n",
       " 'params': {'alpha': 1.9831801082589824, 'max_iter': 1216.8737684523007}}"
      ]
     },
     "execution_count": 9,
     "metadata": {},
     "output_type": "execute_result"
    }
   ],
   "source": [
    "ridgeBO.max"
   ]
  },
  {
   "cell_type": "code",
   "execution_count": 10,
   "metadata": {},
   "outputs": [
    {
     "name": "stdout",
     "output_type": "stream",
     "text": [
      "|   iter    |  target   |   alpha   |    l1     | max_iter  |\n",
      "-------------------------------------------------------------\n",
      "| \u001b[95m 3       \u001b[0m | \u001b[95m-2.986e+1\u001b[0m | \u001b[95m 1.969   \u001b[0m | \u001b[95m 0.4765  \u001b[0m | \u001b[95m 509.0   \u001b[0m |\n",
      "| \u001b[95m 7       \u001b[0m | \u001b[95m-2.986e+1\u001b[0m | \u001b[95m 1.992   \u001b[0m | \u001b[95m 0.5801  \u001b[0m | \u001b[95m 873.1   \u001b[0m |\n",
      "| \u001b[95m 9       \u001b[0m | \u001b[95m-2.986e+1\u001b[0m | \u001b[95m 1.015   \u001b[0m | \u001b[95m 0.2212  \u001b[0m | \u001b[95m 1.062e+0\u001b[0m |\n",
      "| \u001b[95m 30      \u001b[0m | \u001b[95m-2.986e+1\u001b[0m | \u001b[95m 1.173   \u001b[0m | \u001b[95m 0.3488  \u001b[0m | \u001b[95m 1.472e+0\u001b[0m |\n",
      "=============================================================\n"
     ]
    }
   ],
   "source": [
    "elasticBO = BayesianOptimization(elasticnet_eval, \n",
    "                                 {\n",
    "                                    \"alpha\": (0.1, 2),\n",
    "                                    \"max_iter\": (100, 1500),\n",
    "                                    \"l1\": (0.0, 1.0)\n",
    "                                },\n",
    "                                verbose=1)\n",
    "\n",
    "elasticBO.maximize(n_iter=20, init_points=50)"
   ]
  },
  {
   "cell_type": "code",
   "execution_count": 11,
   "metadata": {},
   "outputs": [
    {
     "data": {
      "text/plain": [
       "{'target': -29855722188168.22,\n",
       " 'params': {'alpha': 1.1731348766464769,\n",
       "  'l1': 0.34875352540418936,\n",
       "  'max_iter': 1472.2697783167118}}"
      ]
     },
     "execution_count": 11,
     "metadata": {},
     "output_type": "execute_result"
    }
   ],
   "source": [
    "elasticBO.max"
   ]
  },
  {
   "cell_type": "code",
   "execution_count": 12,
   "metadata": {},
   "outputs": [
    {
     "data": {
      "text/plain": [
       "1.1731348766464769"
      ]
     },
     "execution_count": 12,
     "metadata": {},
     "output_type": "execute_result"
    }
   ],
   "source": [
    "elasticBO.max['params']['alpha']"
   ]
  },
  {
   "cell_type": "code",
   "execution_count": 13,
   "metadata": {},
   "outputs": [],
   "source": [
    "x_train, x_test, y_train, y_test = train_test_split(X, y, test_size=0.4, random_state=39)"
   ]
  },
  {
   "cell_type": "code",
   "execution_count": 40,
   "metadata": {},
   "outputs": [],
   "source": [
    "def predict(x_train, x_test, y_train, y_test, model_list):\n",
    "    model_names = ['Linear Regression', 'Lasso', 'Ridge', 'ElasticNet']\n",
    "    return_df = pd.DataFrame()\n",
    "    return_df.insert(len(return_df.columns), 'Salário Real', y_test)\n",
    "    \n",
    "    for model, model_name in zip(model_list, model_names):\n",
    "        t1 = time.time()\n",
    "        model.fit(x_train, y_train)\n",
    "        pred = model.predict(x_test)\n",
    "        t2 = time.time()\n",
    "        pred[pred < 0] = 0\n",
    "        print(f'{model_name} Score: {model.score(x_test, y_test)}')\n",
    "        print(f'{model_name} RMSE: {mean_squared_error(y_test, pred, squared=False)}')\n",
    "        print(f'Tempo para executar o modelo (treino + teste): {format(t2-t1, \"f\")} segundos')\n",
    "        return_df.insert(len(return_df.columns), f'{model_name}', pred)\n",
    "    \n",
    "    for column in return_df.columns:\n",
    "        return_df[column] = return_df[column].transform(lambda x: format(x, 'f'))\n",
    "    return return_df"
   ]
  },
  {
   "cell_type": "code",
   "execution_count": 49,
   "metadata": {},
   "outputs": [],
   "source": [
    "def plot_histograms(df):\n",
    "    for i, column in enumerate(df.columns):\n",
    "        if i == 0:\n",
    "            continue\n",
    "        sns.distplot(x=df['Salário Real'], kde=False, bins=5)\n",
    "        sns.distplot(x=df[column], kde=False, bins=5)\n",
    "        plt.legend(['Salários Reais', f'Previsão {column}'])\n",
    "        plt.show()"
   ]
  },
  {
   "cell_type": "code",
   "execution_count": 50,
   "metadata": {},
   "outputs": [
    {
     "name": "stdout",
     "output_type": "stream",
     "text": [
      "Linear Regression Score: 0.6475892233560498\n",
      "Linear Regression RMSE: 5530923.458582754\n",
      "Tempo para executar o modelo (treino + teste): 0.006995 segundos\n",
      "Lasso Score: 0.6475892949382211\n",
      "Lasso RMSE: 5530923.089666939\n",
      "Tempo para executar o modelo (treino + teste): 0.007995 segundos\n",
      "Ridge Score: 0.6480201502820248\n",
      "Ridge RMSE: 5528973.654054534\n",
      "Tempo para executar o modelo (treino + teste): 0.011995 segundos\n",
      "ElasticNet Score: 0.6489865941625917\n",
      "ElasticNet RMSE: 5530134.402054923\n",
      "Tempo para executar o modelo (treino + teste): 0.010994 segundos\n"
     ]
    },
    {
     "data": {
      "image/png": "[encoded data removed]",
      "text/plain": [
       "<Figure size 432x288 with 1 Axes>"
      ]
     },
     "metadata": {
      "needs_background": "light"
     },
     "output_type": "display_data"
    },
    {
     "data": {
      "image/png": "[encoded data removed]",
      "text/plain": [
       "<Figure size 432x288 with 1 Axes>"
      ]
     },
     "metadata": {
      "needs_background": "light"
     },
     "output_type": "display_data"
    },
    {
     "data": {
      "image/png": "[encoded data removed]",
      "text/plain": [
       "<Figure size 432x288 with 1 Axes>"
      ]
     },
     "metadata": {
      "needs_background": "light"
     },
     "output_type": "display_data"
    },
    {
     "data": {
      "image/png": "[encoded data removed]",
      "text/plain": [
       "<Figure size 432x288 with 1 Axes>"
      ]
     },
     "metadata": {
      "needs_background": "light"
     },
     "output_type": "display_data"
    }
   ],
   "source": [
    "model_list = [LinearRegression(), \n",
    "              Lasso(), \n",
    "              Ridge(), \n",
    "              ElasticNet()]\n",
    "\n",
    "t1 = time.time()\n",
    "results = predict(x_train, x_test, y_train, y_test, model_list)\n",
    "plot_histograms(results)"
   ]
  },
  {
   "cell_type": "code",
   "execution_count": 16,
   "metadata": {},
   "outputs": [
    {
     "name": "stdout",
     "output_type": "stream",
     "text": [
      "Linear Regression Score: 0.6420815660593562\n",
      "Linear Regression RMSE: 5584348.657018192\n",
      "Tempo para executar o modelo (treino + teste): 0.003998 segundos\n",
      "Lasso Score: 0.6420815629563266\n",
      "Lasso RMSE: 5584348.665644829\n",
      "Tempo para executar o modelo (treino + teste): 0.005996 segundos\n",
      "Ridge Score: 0.6423471511396466\n",
      "Ridge RMSE: 5582280.369769998\n",
      "Tempo para executar o modelo (treino + teste): 0.004996 segundos\n",
      "ElasticNet Score: 0.6496666836223295\n",
      "ElasticNet RMSE: 5533772.53781398\n",
      "Tempo para executar o modelo (treino + teste): 0.003998 segundos\n"
     ]
    }
   ],
   "source": [
    "model_list = [LinearRegression(), \n",
    "              Lasso(alpha = lassoBO.max['params']['alpha'], \n",
    "                    max_iter = lassoBO.max['params']['max_iter']), \n",
    "              Ridge(alpha = ridgeBO.max['params']['alpha'], \n",
    "                    max_iter = ridgeBO.max['params']['max_iter']), \n",
    "              ElasticNet(alpha = elasticBO.max['params']['alpha'],\n",
    "                        l1_ratio = elasticBO.max['params']['l1'],\n",
    "                        max_iter = elasticBO.max['params']['max_iter'])]\n",
    "\n",
    "results_bay = predict(x_train, x_test, y_train, y_test, model_list)"
   ]
  },
  {
   "cell_type": "markdown",
   "metadata": {},
   "source": [
    "Feature Selection"
   ]
  },
  {
   "cell_type": "code",
   "execution_count": 17,
   "metadata": {},
   "outputs": [
    {
     "name": "stdout",
     "output_type": "stream",
     "text": [
      "Fitting estimator with 6 features.\n",
      "Fitting estimator with 5 features.\n"
     ]
    },
    {
     "data": {
      "text/plain": [
       "array([1, 1, 2, 1, 1, 3])"
      ]
     },
     "execution_count": 17,
     "metadata": {},
     "output_type": "execute_result"
    }
   ],
   "source": [
    "selector = RFECV(LinearRegression(), step=1, min_features_to_select=3, n_jobs=-1, verbose=2)\n",
    "selector = selector.fit(X, y)\n",
    "selector.ranking_"
   ]
  },
  {
   "cell_type": "code",
   "execution_count": 18,
   "metadata": {},
   "outputs": [],
   "source": [
    "X = df.drop(['salary', 'weight', 'draft_peak'], axis = 1)\n",
    "x_train, x_test, y_train, y_test = train_test_split(X, y, test_size=0.4, random_state=39)"
   ]
  },
  {
   "cell_type": "code",
   "execution_count": 19,
   "metadata": {},
   "outputs": [
    {
     "name": "stdout",
     "output_type": "stream",
     "text": [
      "Linear Regression Score: 0.6475892233560498\n",
      "Linear Regression RMSE: 5530923.458582754\n",
      "Tempo para executar o modelo (treino + teste): 0.004001 segundos\n",
      "Lasso Score: 0.6475892949382211\n",
      "Lasso RMSE: 5530923.089666939\n",
      "Tempo para executar o modelo (treino + teste): 0.003998 segundos\n",
      "Ridge Score: 0.6480201502820248\n",
      "Ridge RMSE: 5528973.654054534\n",
      "Tempo para executar o modelo (treino + teste): 0.004000 segundos\n",
      "ElasticNet Score: 0.6489865941625917\n",
      "ElasticNet RMSE: 5530134.402054923\n",
      "Tempo para executar o modelo (treino + teste): 0.005995 segundos\n"
     ]
    }
   ],
   "source": [
    "model_list = [LinearRegression(), \n",
    "              Lasso(), \n",
    "              Ridge(), \n",
    "              ElasticNet()]\n",
    "\n",
    "results_fea = predict(x_train, x_test, y_train, y_test, model_list)"
   ]
  },
  {
   "cell_type": "code",
   "execution_count": 20,
   "metadata": {},
   "outputs": [
    {
     "name": "stdout",
     "output_type": "stream",
     "text": [
      "Linear Regression Score: 0.6475892233560498\n",
      "Linear Regression RMSE: 5530923.458582754\n",
      "Tempo para executar o modelo (treino + teste): 0.004997 segundos\n",
      "Lasso Score: 0.6475892305834147\n",
      "Lasso RMSE: 5530923.421268614\n",
      "Tempo para executar o modelo (treino + teste): 0.006999 segundos\n",
      "Ridge Score: 0.6481123047975754\n",
      "Ridge RMSE: 5528810.986247236\n",
      "Tempo para executar o modelo (treino + teste): 0.004996 segundos\n",
      "ElasticNet Score: 0.6492688144950504\n",
      "ElasticNet RMSE: 5531480.365894053\n",
      "Tempo para executar o modelo (treino + teste): 0.004997 segundos\n"
     ]
    }
   ],
   "source": [
    "model_list = [LinearRegression(), \n",
    "              Lasso(alpha = lassoBO.max['params']['alpha'], \n",
    "                    max_iter = lassoBO.max['params']['max_iter']), \n",
    "              Ridge(alpha = ridgeBO.max['params']['alpha'], \n",
    "                    max_iter = ridgeBO.max['params']['max_iter']), \n",
    "              ElasticNet(alpha = elasticBO.max['params']['alpha'],\n",
    "                        l1_ratio = elasticBO.max['params']['l1'],\n",
    "                        max_iter = elasticBO.max['params']['max_iter'])]\n",
    "\n",
    "results_fea_bay = predict(x_train, x_test, y_train, y_test, model_list)"
   ]
  },
  {
   "cell_type": "code",
   "execution_count": null,
   "metadata": {},
   "outputs": [],
   "source": []
  }
 ],
 "metadata": {
  "kernelspec": {
   "display_name": "Python 3",
   "language": "python",
   "name": "python3"
  },
  "language_info": {
   "codemirror_mode": {
    "name": "ipython",
    "version": 3
   },
   "file_extension": ".py",
   "mimetype": "text/x-python",
   "name": "python",
   "nbconvert_exporter": "python",
   "pygments_lexer": "ipython3",
   "version": "3.7.3"
  }
 },
 "nbformat": 4,
 "nbformat_minor": 2
}
